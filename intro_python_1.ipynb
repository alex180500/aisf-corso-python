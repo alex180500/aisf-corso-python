{
 "cells": [
  {
   "attachments": {},
   "cell_type": "markdown",
   "metadata": {},
   "source": [
    "![cover_1](images/giornata_1.png)\n",
    "\n",
    "**Disclaimer!** Il materiale presente è fornito per il corso _\"Python: Un Approccio Da Fisico\"_ tenuto a _Maggio 2023_ per _AISF_ da _Alessandro Romancino_. Il materiale, distribuito con _licenza MIT_ è reperibile presso https://github.com/alex180500/aisf-corso-python."
   ]
  },
  {
   "attachments": {},
   "cell_type": "markdown",
   "metadata": {},
   "source": [
    "# Introduzione a Python\n",
    "\n",
    "Python è un linguaggio di programmazione ad **alto livello** ed estremamente versatile. \\\n",
    "_Ma perché dovrei impararlo?_ Beh... ci sono varie motivazioni:\n",
    "- È un **linguaggio interpretato**\n",
    "- Ha una **sintassi semplice, leggibile e concisa**\n",
    "- È **ampiamente supportato** dalla comunità scientifica con librerie aggiornate continuamente\n",
    "- Ha **ampio utilizzo**: semplici script, programmi, applicazioni web, GUI, machine learning, videogiochi, calcolo scientifico...\n",
    "- È **software free and open source** (FOSS)\n",
    "\n",
    "Ora riassumerò qualche comando di base, per qualsiasi dubbio trovate tutto nel [tutorial ufficiale di Python](https://docs.python.org/3/tutorial/)."
   ]
  },
  {
   "attachments": {},
   "cell_type": "markdown",
   "metadata": {},
   "source": [
    "In Python le variabili sono **dinamiche**. Ciò significa che uno può assegnare qualsiasi tipo alla variabile che stiamo usando, non dobbiamo dichiararle! [Clicca qui per più informazioni.](https://docs.python.org/3/library/stdtypes.html)"
   ]
  },
  {
   "cell_type": "code",
   "execution_count": 17,
   "metadata": {},
   "outputs": [
    {
     "name": "stdout",
     "output_type": "stream",
     "text": [
      "<class 'int'>\n",
      "<class 'float'>\n",
      "<class 'bool'>\n",
      "<class 'complex'>\n",
      "<class 'list'>\n",
      "<class 'str'>\n",
      "<class 'dict'>\n"
     ]
    }
   ],
   "source": [
    "a = 10\n",
    "print(type(a))\n",
    "b = -15.666\n",
    "print(type(b))\n",
    "c = True\n",
    "print(type(c))\n",
    "d = 10.21093 + 5j\n",
    "print(type(d))\n",
    "e = [1, [10, \"carlo\"], False, a, b]\n",
    "print(type(e))\n",
    "f = \"viva_aisf\"\n",
    "print(type(f))\n",
    "g = {\"palermo\": \"arancina\", \"catania\": \"arancino\"}\n",
    "print(type(g))"
   ]
  },
  {
   "attachments": {},
   "cell_type": "markdown",
   "metadata": {},
   "source": [
    "Per stampare su terminale si usa il comando `print`, per inserire dati consiglio di imparare il formato f-string! Estremamente comodo e semplice. [Clicca qui per più informazioni.](https://docs.python.org/3/reference/lexical_analysis.html#f-strings)"
   ]
  },
  {
   "cell_type": "code",
   "execution_count": null,
   "metadata": {},
   "outputs": [],
   "source": [
    "print(\"L'arancina è femmina\")\n",
    "print(f\"Mmmmmh {d}\")\n",
    "print(f\"Per arrotondare... {b:.2f}\")\n",
    "print(f\"{e = }\")"
   ]
  },
  {
   "attachments": {},
   "cell_type": "markdown",
   "metadata": {},
   "source": [
    "Per quanto riguarda il _control flow_, Python è un linguaggio estremamente flessibile e permette di effettuare cicli for su qualsiasi oggetto **iterabile**. Gli iterabili possono essere per esempio liste e dizionari. L'iterabile più semplice è `range` che crea un iterabile con la sintassi **start:stop:step**. La keyword `if` invece esegue il codice quando il suo argomento è `True`. [Clicca qui per più informazioni.](https://docs.python.org/3/tutorial/controlflow.html)"
   ]
  },
  {
   "cell_type": "code",
   "execution_count": null,
   "metadata": {},
   "outputs": [],
   "source": [
    "for index in range(-3, 10, 2):\n",
    "    print(f\"{index = }\")\n",
    "    if index == 7:\n",
    "        print(f\"{index} misura massima di ogni cosa\")"
   ]
  },
  {
   "attachments": {},
   "cell_type": "markdown",
   "metadata": {},
   "source": [
    "Una funzione che uso spessissimo in python è `enumerate`, questa permette di iterare sia su un oggetto e di avere indietro anche l'indice di iterazione. [Clicca qui per più informazioni.](https://docs.python.org/3/library/functions.html#enumerate)"
   ]
  },
  {
   "cell_type": "code",
   "execution_count": null,
   "metadata": {},
   "outputs": [],
   "source": [
    "for idx, element in enumerate(e):\n",
    "    print(idx, element)"
   ]
  },
  {
   "attachments": {},
   "cell_type": "markdown",
   "metadata": {},
   "source": [
    "Per accedere alle liste si usa anche qui la sintassi _start:stop:step_. Un metodo per definire funzioni estremamente utile è una **list comprehension**. [Clicca qui per più informazioni.](https://docs.python.org/3/tutorial/datastructures.html#list-comprehensions)"
   ]
  },
  {
   "cell_type": "code",
   "execution_count": 29,
   "metadata": {},
   "outputs": [
    {
     "name": "stdout",
     "output_type": "stream",
     "text": [
      "[[10, 'carlo'], False, 10, -15.666]\n",
      "[0, 1, 4, 9, 16, 25, 36, 49, 64, 81]\n",
      "['o', 'e', 'i', 'u', 'o', 'o', 'i', 'a', 'e']\n"
     ]
    }
   ],
   "source": [
    "print(e[1:-1])\n",
    "print([x**2 for x in range(10)])\n",
    "print([i for i in \"Lorem ipsum dolor sit amet\" if i in 'aeiou'])"
   ]
  },
  {
   "attachments": {},
   "cell_type": "markdown",
   "metadata": {},
   "source": [
    "Per quanto riguarda i dizionari invece, ci si accede usando le **keys**, è molto utile il metodo `dict.items()` per i loop. Inoltre esiste un analogo delle list comprehension chiamato **dict comprehension**. [Clicca qui per più informazioni.](https://docs.python.org/3/tutorial/datastructures.html#dictionaries)"
   ]
  },
  {
   "cell_type": "code",
   "execution_count": 6,
   "metadata": {},
   "outputs": [
    {
     "name": "stdout",
     "output_type": "stream",
     "text": [
      "arancina\n"
     ]
    },
    {
     "data": {
      "text/plain": [
       "dict_items([('palermo', 'arancina'), ('catania', 'arancino')])"
      ]
     },
     "execution_count": 6,
     "metadata": {},
     "output_type": "execute_result"
    }
   ],
   "source": [
    "print(g[\"palermo\"])\n",
    "g.items()"
   ]
  },
  {
   "attachments": {},
   "cell_type": "markdown",
   "metadata": {},
   "source": [
    "Una funzione in Python è definita da `*args` e `**kwargs`. Gli args sono **posizionali** e obbligatori, mentre i kwargs hanno un **nome** e sono opzionali. Per creare le funzioni si usa la keyword `def`. [Clicca qui per più informazioni.](https://docs.python.org/3/tutorial/controlflow.html#defining-functions)"
   ]
  },
  {
   "cell_type": "code",
   "execution_count": 10,
   "metadata": {},
   "outputs": [
    {
     "name": "stdout",
     "output_type": "stream",
     "text": [
      "5 - 2 = 3\n",
      "3 + 3 = 6\n"
     ]
    }
   ],
   "source": [
    "def operazione(a, b, sum=True):\n",
    "    if sum:\n",
    "        print(f\"{a} + {b} = {a+b}\")\n",
    "        return a + b\n",
    "    else:\n",
    "        print(f\"{a} - {b} = {a-b}\")\n",
    "        return a - b\n",
    "\n",
    "var1 = operazione(5, 2, sum=False)\n",
    "var2 = operazione(3, 3)"
   ]
  },
  {
   "attachments": {},
   "cell_type": "markdown",
   "metadata": {},
   "source": [
    "# Pacchetti e Programmazione ad Oggetti\n",
    "\n",
    "In Python qualsiasi cosa è un **oggetto**. Per oggetto si intende _una istanza di una classe che lo definisce, e contiene dati (attributi) e funzioni (metodi)_."
   ]
  },
  {
   "attachments": {},
   "cell_type": "markdown",
   "metadata": {},
   "source": [
    "Per esempio un attributo è `complex.real` che contiene la parte reale di un numero complesso mentre un metodo è `list.append()` che permette di allungare una lista aggiungendo un elemento."
   ]
  },
  {
   "cell_type": "code",
   "execution_count": 19,
   "metadata": {},
   "outputs": [
    {
     "name": "stdout",
     "output_type": "stream",
     "text": [
      "10.21093\n"
     ]
    },
    {
     "data": {
      "text/plain": [
       "[1, [10, 'carlo'], False, 10, -15.666, 'aggiunto!']"
      ]
     },
     "execution_count": 19,
     "metadata": {},
     "output_type": "execute_result"
    }
   ],
   "source": [
    "print(d.real)\n",
    "\n",
    "e.append(\"aggiunto!\")\n",
    "e"
   ]
  },
  {
   "attachments": {},
   "cell_type": "markdown",
   "metadata": {},
   "source": [
    "I pacchetti di Python sono l'anima di questo linguaggio di programmazione. Per importare un pacchetto si usa la keyword `import`, fatto ciò il nome viene aggiunto al **namespace**. [Clicca qui per più informazioni.](https://docs.python.org/3/tutorial/modules.html)"
   ]
  },
  {
   "cell_type": "code",
   "execution_count": 20,
   "metadata": {},
   "outputs": [
    {
     "name": "stdout",
     "output_type": "stream",
     "text": [
      "The Zen of Python, by Tim Peters\n",
      "\n",
      "Beautiful is better than ugly.\n",
      "Explicit is better than implicit.\n",
      "Simple is better than complex.\n",
      "Complex is better than complicated.\n",
      "Flat is better than nested.\n",
      "Sparse is better than dense.\n",
      "Readability counts.\n",
      "Special cases aren't special enough to break the rules.\n",
      "Although practicality beats purity.\n",
      "Errors should never pass silently.\n",
      "Unless explicitly silenced.\n",
      "In the face of ambiguity, refuse the temptation to guess.\n",
      "There should be one-- and preferably only one --obvious way to do it.\n",
      "Although that way may not be obvious at first unless you're Dutch.\n",
      "Now is better than never.\n",
      "Although never is often better than *right* now.\n",
      "If the implementation is hard to explain, it's a bad idea.\n",
      "If the implementation is easy to explain, it may be a good idea.\n",
      "Namespaces are one honking great idea -- let's do more of those!\n"
     ]
    }
   ],
   "source": [
    "import this"
   ]
  },
  {
   "attachments": {},
   "cell_type": "markdown",
   "metadata": {},
   "source": [
    "# NumPy e Numeri Random\n",
    "\n",
    "[**NumPy**](https://numpy.org/doc/stable/user/whatisnumpy.html) è la libreria scientifica fondamentale per l'analisi dati in Python. Il suo strumento principale è l'`ndarray` che semplifica enormemente le operazioni tra matrici e vettori. [Clicca qui per più informazioni.](https://numpy.org/doc/stable/reference/index.html)"
   ]
  },
  {
   "cell_type": "code",
   "execution_count": 8,
   "metadata": {},
   "outputs": [],
   "source": [
    "import numpy as np"
   ]
  },
  {
   "attachments": {},
   "cell_type": "markdown",
   "metadata": {},
   "source": [
    "I metodi di creazione di `ndarray` sono molteplici, quelli di base sono [`numpy.array()`](https://numpy.org/doc/stable/reference/generated/numpy.array.html) che permette di trasformare qualsiasi oggetto in array, [`numpy.zeros()`](https://numpy.org/doc/stable/reference/generated/numpy.zeros.html) per inizializzare un array di zeri, [`numpy.arange()`](https://numpy.org/doc/stable/reference/generated/numpy.arange.html) per inizializzare un array equivalente a `list(range())` e, soprattutto, [`numpy.linspace(start, stop, num)`](https://numpy.org/doc/stable/reference/generated/numpy.linspace.html) che inizializza un array da _start_ a _stop_ con _num_ elementi equidistanziati. [Clicca qui per più informazioni.](https://numpy.org/doc/stable/reference/routines.array-creation.html)"
   ]
  },
  {
   "cell_type": "code",
   "execution_count": 31,
   "metadata": {},
   "outputs": [
    {
     "data": {
      "text/plain": [
       "array([1. , 1.2, 1.4, 1.6, 1.8, 2. ])"
      ]
     },
     "execution_count": 31,
     "metadata": {},
     "output_type": "execute_result"
    }
   ],
   "source": [
    "y = np.array([3, 5, 7, 9, 11, 13])\n",
    "x = np.linspace(1, 2, 6)\n",
    "x"
   ]
  },
  {
   "attachments": {},
   "cell_type": "markdown",
   "metadata": {},
   "source": [
    "La forza di NumPy è la capacità di fare operazioni sugli array **element-wise**. Questo velocizza di molto le operazioni per l'analisi dati, soprattutto perché gli oggetti di NumPy sono internamente scritti in C (che velocizza il codice). Per accedere agli `ndarray` si usa lo **slicing** anche qui con sintassi _start:stop:step_. [Clicca qui per più informazioni.](https://numpy.org/doc/stable/reference/arrays.ndarray.html)"
   ]
  },
  {
   "cell_type": "code",
   "execution_count": 36,
   "metadata": {},
   "outputs": [
    {
     "name": "stdout",
     "output_type": "stream",
     "text": [
      "[ 4.   6.2  8.4 10.6 12.8 15. ]\n",
      "[ 5.  6.  7.  8.  9. 10.]\n"
     ]
    },
    {
     "data": {
      "text/plain": [
       "array([2. , 1.8, 1.6, 1.4, 1.2, 1. ])"
      ]
     },
     "execution_count": 36,
     "metadata": {},
     "output_type": "execute_result"
    }
   ],
   "source": [
    "print(x + y)\n",
    "print(x * 5)\n",
    "x[::-1]"
   ]
  },
  {
   "attachments": {},
   "cell_type": "markdown",
   "metadata": {},
   "source": [
    "Per quanto riguarda la generazione di numeri random NumPy si affida a un generatore _PCG64_ per iniziarlo si usa `np.random.default_rng()`, questo generatore ha poi tante funzioni per le varie distribuzioni che ci interessano. [Clicca qui per più informazioni.](https://numpy.org/doc/stable/reference/random/generator.html)"
   ]
  },
  {
   "cell_type": "code",
   "execution_count": 9,
   "metadata": {},
   "outputs": [
    {
     "data": {
      "text/plain": [
       "array([[ 9, 10, 10, 10,  8],\n",
       "       [ 8,  5,  8,  4,  1],\n",
       "       [ 5,  6,  3,  4, 10]], dtype=int64)"
      ]
     },
     "execution_count": 9,
     "metadata": {},
     "output_type": "execute_result"
    }
   ],
   "source": [
    "rng = np.random.default_rng()\n",
    "rng.integers(0, 10, size=(3, 5), endpoint=True)"
   ]
  },
  {
   "attachments": {},
   "cell_type": "markdown",
   "metadata": {},
   "source": [
    "# Esempio: Pi Greco con Metodo Montecarlo\n",
    "\n",
    "![montecarlo](images/monte_carlo.png)\n",
    "\n",
    "L'idea è quella di calcolare il valore di $\\pi$ con il Metodo Montecarlo. Per fare ciò si generano numeri random in un quadrato e si vede se questi si trovano all'interno della circonferenza oppure no. Il numero di punti al'interno della circonferenza rispetto al numero dei punti totali è legato a $\\pi$.\n",
    "$$\\frac{N_c}{N} = \\frac{A_c}{A} = \\frac{\\pi r^2}{(2r)^2} = \\frac{\\pi}{4}$$\n",
    "\n"
   ]
  },
  {
   "cell_type": "code",
   "execution_count": 47,
   "metadata": {},
   "outputs": [
    {
     "data": {
      "text/plain": [
       "(array([ 0.9446338 , -0.0600931 ,  0.9517022 , ..., -0.63585281,\n",
       "         0.51638858,  0.46523598]),\n",
       " array([ 0.84993127, -0.96701134, -0.98036072, ..., -0.57725811,\n",
       "         0.28889887,  0.8249496 ]))"
      ]
     },
     "execution_count": 47,
     "metadata": {},
     "output_type": "execute_result"
    }
   ],
   "source": [
    "total_n = 10000000\n",
    "\n",
    "x = rng.uniform(-1, 1, total_n)\n",
    "y = rng.uniform(-1, 1, total_n)\n",
    "x, y"
   ]
  },
  {
   "cell_type": "code",
   "execution_count": 48,
   "metadata": {},
   "outputs": [
    {
     "data": {
      "text/plain": [
       "array([False,  True, False, ...,  True,  True,  True])"
      ]
     },
     "execution_count": 48,
     "metadata": {},
     "output_type": "execute_result"
    }
   ],
   "source": [
    "in_circle = x**2 + y**2 < 1\n",
    "in_circle"
   ]
  },
  {
   "cell_type": "code",
   "execution_count": 49,
   "metadata": {},
   "outputs": [
    {
     "data": {
      "text/plain": [
       "7854277"
      ]
     },
     "execution_count": 49,
     "metadata": {},
     "output_type": "execute_result"
    }
   ],
   "source": [
    "circle_n = np.sum(in_circle)\n",
    "circle_n"
   ]
  },
  {
   "cell_type": "code",
   "execution_count": 50,
   "metadata": {},
   "outputs": [
    {
     "data": {
      "text/plain": [
       "3.1417108"
      ]
     },
     "execution_count": 50,
     "metadata": {},
     "output_type": "execute_result"
    }
   ],
   "source": [
    "pi = 4 * circle_n / total_n\n",
    "pi"
   ]
  }
 ],
 "metadata": {
  "kernelspec": {
   "display_name": "Python 3 (ipykernel)",
   "language": "python",
   "name": "python3"
  },
  "language_info": {
   "codemirror_mode": {
    "name": "ipython",
    "version": 3
   },
   "file_extension": ".py",
   "mimetype": "text/x-python",
   "name": "python",
   "nbconvert_exporter": "python",
   "pygments_lexer": "ipython3",
   "version": "3.11.3"
  }
 },
 "nbformat": 4,
 "nbformat_minor": 2
}
